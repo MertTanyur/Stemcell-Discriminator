{
 "cells": [
  {
   "cell_type": "code",
   "execution_count": 6,
   "metadata": {},
   "outputs": [],
   "source": [
    "import pandas as pd\n",
    "import numpy as np\n",
    "from sklearn.decomposition import PCA\n",
    "from sklearn import preprocessing\n",
    "from sklearn.impute import SimpleImputer\n",
    "import matplotlib.pyplot as plt\n",
    "\n",
    "\n"
   ]
  },
  {
   "cell_type": "code",
   "execution_count": 7,
   "metadata": {},
   "outputs": [],
   "source": [
    "df = pd.read_csv('non_index_completed.csv',index_col = 'biomarkers')\n"
   ]
  },
  {
   "cell_type": "code",
   "execution_count": 8,
   "metadata": {},
   "outputs": [
    {
     "name": "stdout",
     "output_type": "stream",
     "text": [
      "Index(['cg00000292', 'cg00002426', 'cg00003994', 'cg00005847', 'cg00006414',\n",
      "       'cg00007981', 'cg00008493', 'cg00008713', 'cg00009407', 'cg00010193',\n",
      "       ...\n",
      "       'cg27653134', 'cg27654142', 'cg27655855', 'cg27655905', 'cg27657249',\n",
      "       'cg27657283', 'cg27661264', 'cg27662379', 'cg27662877', 'cg27665659'],\n",
      "      dtype='object', name='biomarkers', length=27578)\n"
     ]
    }
   ],
   "source": [
    "print(df.index)"
   ]
  },
  {
   "cell_type": "code",
   "execution_count": 9,
   "metadata": {},
   "outputs": [
    {
     "name": "stdout",
     "output_type": "stream",
     "text": [
      "[[ 1.41949909  0.11600703  0.26954153 ... -0.50848918 -0.37494081\n",
      "   1.00471499]\n",
      " [-1.73068944  1.14207876  2.24950203 ... -0.15273862 -0.37494081\n",
      "  -1.78631832]\n",
      " [ 0.17898493 -1.22041702 -0.85700771 ...  2.08553536 -0.37494081\n",
      "  -1.17861203]\n",
      " ...\n",
      " [ 0.67525561  0.19731078 -0.66322391 ... -0.50848918 -0.37494081\n",
      "   0.28339221]\n",
      " [-0.76009625 -0.42743103  0.04184225 ... -0.50848918 -0.37494081\n",
      "   0.74444112]\n",
      " [-1.24035796 -1.15788431 -0.29141264 ... -0.50848918 -0.37494081\n",
      "   0.33215903]]\n"
     ]
    }
   ],
   "source": [
    "scaled_data = preprocessing.scale(df.T)\n",
    "print(scaled_data)"
   ]
  },
  {
   "cell_type": "code",
   "execution_count": 10,
   "metadata": {},
   "outputs": [
    {
     "name": "stdout",
     "output_type": "stream",
     "text": [
      "Requirement already satisfied: sklearn in c:\\users\\mertb\\anaconda3\\envs\\myenv\\lib\\site-packages (0.0)\n",
      "Requirement already satisfied: scikit-learn in c:\\users\\mertb\\anaconda3\\envs\\myenv\\lib\\site-packages (from sklearn) (0.23.2)\n",
      "Requirement already satisfied: threadpoolctl>=2.0.0 in c:\\users\\mertb\\anaconda3\\envs\\myenv\\lib\\site-packages (from scikit-learn->sklearn) (2.1.0)\n",
      "Requirement already satisfied: scipy>=0.19.1 in c:\\users\\mertb\\anaconda3\\envs\\myenv\\lib\\site-packages (from scikit-learn->sklearn) (1.5.2)\n",
      "Requirement already satisfied: numpy>=1.13.3 in c:\\users\\mertb\\anaconda3\\envs\\myenv\\lib\\site-packages (from scikit-learn->sklearn) (1.19.2)\n",
      "Requirement already satisfied: joblib>=0.11 in c:\\users\\mertb\\anaconda3\\envs\\myenv\\lib\\site-packages (from scikit-learn->sklearn) (0.16.0)\n",
      "Requirement already satisfied: matplotlib in c:\\users\\mertb\\anaconda3\\envs\\myenv\\lib\\site-packages (3.3.2)\n",
      "Requirement already satisfied: cycler>=0.10 in c:\\users\\mertb\\anaconda3\\envs\\myenv\\lib\\site-packages (from matplotlib) (0.10.0)\n",
      "Requirement already satisfied: pyparsing!=2.0.4,!=2.1.2,!=2.1.6,>=2.0.3 in c:\\users\\mertb\\appdata\\roaming\\python\\python37\\site-packages (from matplotlib) (2.4.7)\n",
      "Requirement already satisfied: numpy>=1.15 in c:\\users\\mertb\\anaconda3\\envs\\myenv\\lib\\site-packages (from matplotlib) (1.19.2)\n",
      "Requirement already satisfied: certifi>=2020.06.20 in c:\\users\\mertb\\anaconda3\\envs\\myenv\\lib\\site-packages (from matplotlib) (2020.6.20)\n",
      "Requirement already satisfied: kiwisolver>=1.0.1 in c:\\users\\mertb\\anaconda3\\envs\\myenv\\lib\\site-packages (from matplotlib) (1.2.0)\n",
      "Requirement already satisfied: pillow>=6.2.0 in c:\\users\\mertb\\anaconda3\\envs\\myenv\\lib\\site-packages (from matplotlib) (7.2.0)\n",
      "Requirement already satisfied: python-dateutil>=2.1 in c:\\users\\mertb\\appdata\\roaming\\python\\python37\\site-packages (from matplotlib) (2.8.0)\n",
      "Requirement already satisfied: six in c:\\users\\mertb\\appdata\\roaming\\python\\python37\\site-packages (from cycler>=0.10->matplotlib) (1.15.0)\n"
     ]
    }
   ],
   "source": [
    "!pip install sklearn\n",
    "!pip  install matplotlib"
   ]
  },
  {
   "cell_type": "code",
   "execution_count": 11,
   "metadata": {},
   "outputs": [],
   "source": [
    "imp_mean = SimpleImputer(missing_values=np.nan, strategy='mean')"
   ]
  },
  {
   "cell_type": "code",
   "execution_count": 12,
   "metadata": {},
   "outputs": [
    {
     "data": {
      "text/plain": [
       "SimpleImputer()"
      ]
     },
     "execution_count": 12,
     "metadata": {},
     "output_type": "execute_result"
    }
   ],
   "source": [
    "imp_mean.fit(scaled_data)\n"
   ]
  },
  {
   "cell_type": "code",
   "execution_count": 13,
   "metadata": {},
   "outputs": [
    {
     "name": "stdout",
     "output_type": "stream",
     "text": [
      "[[ 1.41949909  0.11600703  0.26954153 ... -0.50848918 -0.37494081\n",
      "   1.00471499]\n",
      " [-1.73068944  1.14207876  2.24950203 ... -0.15273862 -0.37494081\n",
      "  -1.78631832]\n",
      " [ 0.17898493 -1.22041702 -0.85700771 ...  2.08553536 -0.37494081\n",
      "  -1.17861203]\n",
      " ...\n",
      " [ 0.67525561  0.19731078 -0.66322391 ... -0.50848918 -0.37494081\n",
      "   0.28339221]\n",
      " [-0.76009625 -0.42743103  0.04184225 ... -0.50848918 -0.37494081\n",
      "   0.74444112]\n",
      " [-1.24035796 -1.15788431 -0.29141264 ... -0.50848918 -0.37494081\n",
      "   0.33215903]]\n"
     ]
    }
   ],
   "source": [
    "scaled_data = imp_mean.transform(scaled_data)\n",
    "print(scaled_data)"
   ]
  },
  {
   "cell_type": "code",
   "execution_count": 14,
   "metadata": {},
   "outputs": [],
   "source": [
    "pca = PCA()"
   ]
  },
  {
   "cell_type": "code",
   "execution_count": 15,
   "metadata": {},
   "outputs": [
    {
     "data": {
      "text/plain": [
       "PCA()"
      ]
     },
     "execution_count": 15,
     "metadata": {},
     "output_type": "execute_result"
    }
   ],
   "source": [
    "pca.fit(scaled_data)"
   ]
  },
  {
   "cell_type": "code",
   "execution_count": 16,
   "metadata": {},
   "outputs": [],
   "source": [
    "pca_data = pca.transform(scaled_data)"
   ]
  },
  {
   "cell_type": "code",
   "execution_count": 17,
   "metadata": {},
   "outputs": [],
   "source": [
    "per_var = np.round(pca.explained_variance_ratio_* 100, decimals=1)\n",
    "labels = ['PC' + str(x) for x in range(1, len(per_var)+1)]\n",
    " "
   ]
  },
  {
   "cell_type": "code",
   "execution_count": 18,
   "metadata": {},
   "outputs": [
    {
     "data": {
      "image/png": "[encoded data removed]",
      "text/plain": [
       "<Figure size 432x288 with 1 Axes>"
      ]
     },
     "metadata": {
      "needs_background": "light"
     },
     "output_type": "display_data"
    }
   ],
   "source": [
    "plt.bar(x=range(1,len(per_var)+1), height=per_var, tick_label=labels)\n",
    "plt.ylabel('Percentage of Explained Variance')\n",
    "plt.xlabel('Principal Component')\n",
    "plt.title('Scree Plot')\n",
    "plt.show()"
   ]
  },
  {
   "cell_type": "code",
   "execution_count": 19,
   "metadata": {},
   "outputs": [],
   "source": [
    "pca_df = pd.DataFrame(pca_data, index=df.columns, columns=labels)\n"
   ]
  },
  {
   "cell_type": "code",
   "execution_count": 20,
   "metadata": {},
   "outputs": [
    {
     "data": {
      "image/png": "[encoded data removed]",
      "text/plain": [
       "<Figure size 432x288 with 1 Axes>"
      ]
     },
     "metadata": {
      "needs_background": "light"
     },
     "output_type": "display_data"
    }
   ],
   "source": [
    "plt.scatter(pca_df.PC1, pca_df.PC2)\n",
    "plt.title('My PCA Graph')\n",
    "plt.xlabel(f'PC1 - {per_var[0]}')\n",
    "plt.ylabel(f'PC2 - {per_var[1]}')\n",
    "for sample in pca_df.index:\n",
    "    plt.annotate(sample, (pca_df.PC1.loc[sample], pca_df.PC2.loc[sample]))\n",
    " \n",
    "plt.show()"
   ]
  },
  {
   "cell_type": "code",
   "execution_count": 21,
   "metadata": {},
   "outputs": [],
   "source": [
    "## get the name of the top 10 measurements (genes) that contribute\n",
    "## most to pc1.\n",
    "## first, get the loading scores"
   ]
  },
  {
   "cell_type": "code",
   "execution_count": 22,
   "metadata": {},
   "outputs": [],
   "source": [
    "\n",
    "loading_scores = pd.Series(pca.components_[0], index=df.index)"
   ]
  },
  {
   "cell_type": "code",
   "execution_count": 23,
   "metadata": {},
   "outputs": [],
   "source": [
    "sorted_loading_scores = loading_scores.abs().sort_values(ascending=False)\n",
    " "
   ]
  },
  {
   "cell_type": "code",
   "execution_count": 24,
   "metadata": {},
   "outputs": [],
   "source": [
    "top_20_biomarkers = sorted_loading_scores[0:20].index.values"
   ]
  },
  {
   "cell_type": "code",
   "execution_count": 25,
   "metadata": {},
   "outputs": [
    {
     "data": {
      "text/plain": [
       "biomarkers\n",
       "cg20663831   -0.012606\n",
       "cg15052335   -0.012599\n",
       "cg21022395   -0.012488\n",
       "cg02845923   -0.012478\n",
       "cg21833459   -0.012433\n",
       "cg26866325   -0.012431\n",
       "cg05161795   -0.012401\n",
       "cg00134787   -0.012393\n",
       "cg23839680   -0.012378\n",
       "cg09358725   -0.012351\n",
       "cg19863405   -0.012346\n",
       "cg21787280   -0.012325\n",
       "cg22940988   -0.012302\n",
       "cg17824393   -0.012297\n",
       "cg14003467   -0.012295\n",
       "cg08659539   -0.012260\n",
       "cg01796228   -0.012260\n",
       "cg01958189   -0.012257\n",
       "cg24056567   -0.012249\n",
       "cg18997662    0.012226\n",
       "dtype: float64"
      ]
     },
     "execution_count": 25,
     "metadata": {},
     "output_type": "execute_result"
    }
   ],
   "source": [
    "loading_scores[top_20_biomarkers]\n"
   ]
  },
  {
   "cell_type": "code",
   "execution_count": null,
   "metadata": {},
   "outputs": [],
   "source": []
  }
 ],
 "metadata": {
  "kernelspec": {
   "display_name": "Python 3",
   "language": "python",
   "name": "python3"
  },
  "language_info": {
   "codemirror_mode": {
    "name": "ipython",
    "version": 3
   },
   "file_extension": ".py",
   "mimetype": "text/x-python",
   "name": "python",
   "nbconvert_exporter": "python",
   "pygments_lexer": "ipython3",
   "version": "3.7.9"
  }
 },
 "nbformat": 4,
 "nbformat_minor": 4
}
